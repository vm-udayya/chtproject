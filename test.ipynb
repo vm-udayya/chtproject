{
 "cells": [
  {
   "cell_type": "markdown",
   "metadata": {},
   "source": [
    "# Best Practices: Pythonic Code\n",
    "\n",
    "- What does it mean for code to be \"Pythonic?\" (idiomatic Python)\n",
    "- Some high points from PEP 8\n",
    "- Examples of Pythonic vs. non-Pythonic code"
   ]
  },
  {
   "cell_type": "code",
   "execution_count": 1,
   "metadata": {},
   "outputs": [
    {
     "name": "stdout",
     "output_type": "stream",
     "text": [
      "The Zen of Python, by Tim Peters\n",
      "\n",
      "Beautiful is better than ugly.\n",
      "Explicit is better than implicit.\n",
      "Simple is better than complex.\n",
      "Complex is better than complicated.\n",
      "Flat is better than nested.\n",
      "Sparse is better than dense.\n",
      "Readability counts.\n",
      "Special cases aren't special enough to break the rules.\n",
      "Although practicality beats purity.\n",
      "Errors should never pass silently.\n",
      "Unless explicitly silenced.\n",
      "In the face of ambiguity, refuse the temptation to guess.\n",
      "There should be one-- and preferably only one --obvious way to do it.\n",
      "Although that way may not be obvious at first unless you're Dutch.\n",
      "Now is better than never.\n",
      "Although never is often better than *right* now.\n",
      "If the implementation is hard to explain, it's a bad idea.\n",
      "If the implementation is easy to explain, it may be a good idea.\n",
      "Namespaces are one honking great idea -- let's do more of those!\n"
     ]
    }
   ],
   "source": [
    "import this"
   ]
  },
  {
   "cell_type": "code",
   "execution_count": 2,
   "metadata": {},
   "outputs": [
    {
     "ename": "NameError",
     "evalue": "name 'condition' is not defined",
     "output_type": "error",
     "traceback": [
      "\u001b[0;31m---------------------------------------------------------------------------\u001b[0m",
      "\u001b[0;31mNameError\u001b[0m                                 Traceback (most recent call last)",
      "\u001b[0;32m<ipython-input-2-e8f28123cf7d>\u001b[0m in \u001b[0;36m<module>\u001b[0;34m\u001b[0m\n\u001b[0;32m----> 1\u001b[0;31m \u001b[0;32mif\u001b[0m \u001b[0mcondition\u001b[0m\u001b[0;34m:\u001b[0m\u001b[0;34m\u001b[0m\u001b[0;34m\u001b[0m\u001b[0m\n\u001b[0m\u001b[1;32m      2\u001b[0m     \u001b[0;34m...\u001b[0m\u001b[0;34m\u001b[0m\u001b[0;34m\u001b[0m\u001b[0m\n\u001b[1;32m      3\u001b[0m \u001b[0;32melse\u001b[0m\u001b[0;34m:\u001b[0m\u001b[0;34m\u001b[0m\u001b[0;34m\u001b[0m\u001b[0m\n\u001b[1;32m      4\u001b[0m     \u001b[0;32mif\u001b[0m \u001b[0mother_condition\u001b[0m\u001b[0;34m:\u001b[0m\u001b[0;34m\u001b[0m\u001b[0;34m\u001b[0m\u001b[0m\n\u001b[1;32m      5\u001b[0m         \u001b[0;34m...\u001b[0m\u001b[0;34m\u001b[0m\u001b[0;34m\u001b[0m\u001b[0m\n",
      "\u001b[0;31mNameError\u001b[0m: name 'condition' is not defined"
     ]
    }
   ],
   "source": [
    "if condition:\n",
    "    ...\n",
    "else:\n",
    "    if other_condition:\n",
    "        ...\n",
    "    else:\n",
    "        ...\n",
    "        \n",
    "if condition:\n",
    "    ...\n",
    "elif other_condition:\n",
    "    ...\n",
    "else:\n",
    "    ..."
   ]
  },
  {
   "cell_type": "markdown",
   "metadata": {},
   "source": [
    "# Python Style Guide: PEP 8\n",
    "\n",
    "- Python has long had a style guide, available as the [Python Enhancement Proposal # 8 (PEP 8)][pep-8].\n",
    "- We like our style guide, but \"A Foolish Consistency is the Hobgoblin of Little Minds\"\n",
    "\n",
    "[pep-8]: https://www.python.org/dev/peps/pep-0008/"
   ]
  },
  {
   "cell_type": "markdown",
   "metadata": {},
   "source": [
    "## Code layout\n",
    "\n",
    "- Indent with 4 spaces\n",
    "- Keep lines under 79 characters long\n",
    "- Blank lines: \n",
    "    - 2 between top-level functions & classes\n",
    "    - 1 between method definitions within a class"
   ]
  },
  {
   "cell_type": "markdown",
   "metadata": {},
   "source": [
    "## Strings\n",
    "\n",
    "- Use whichever quotes you prefer, but try to minimize the need for backslash escapes\n",
    "- When doing triple-quoted strings, use the \"double-triple\" quote\n",
    "- Docstrings have their own [PEP 257][pep-257], but generally, if multiline:\n",
    "    - Have an initial summary line\n",
    "    - ... followed by a blank line\n",
    "    - ... followed by other explanation\n",
    "    - ... followed by the closing triple-quote on its own line\n",
    "    \n",
    "[pep-257]: https://www.python.org/dev/peps/pep-0257"
   ]
  },
  {
   "cell_type": "markdown",
   "metadata": {},
   "source": [
    "## Naming conventions\n",
    "\n",
    "- Never use the names 'l', 'O', or 'I' as single-letter variable names (they are easy to mistake for other characters)\n",
    "- Modules and packages should be short, lowercase names (underscores can be used in modules if necessary for readability)\n",
    "- Class names use the `CapWords` convention (sometimes called `CamelCase`)\n",
    "- Exception names (being classes) also use `CapWords` and should end in `\"Error\"` (e.g. `NameError`)\n",
    "- Functions and variables should use lowercase with underscores as necessary for readabilty (`count_words()`). I like to call this `snake_case`\n",
    "- Constants should be written in `ALL_CAPS`\n",
    "- Double leading and trailing underscores are used for \"magic\" names (those created automatically by Python, or called implicitly by Python such as `__name__` (defined on classes), or `__init__` (called on creation of an object)\n",
    "- Classes:\n",
    "    - Methods should take the first argument `self` (not `this` or other), with `@classmethod`s taking the first argument `cls`\n",
    "    - Names meant for internal use (\"private-ish\" names) should use a single leading underscore `def _internal_method(self, ...)`\n"
   ]
  },
  {
   "cell_type": "code",
   "execution_count": null,
   "metadata": {},
   "outputs": [],
   "source": [
    "thisismyreallylongmodulename.py\n",
    "\n",
    "this_is_my_really_long_module_name.py"
   ]
  },
  {
   "cell_type": "markdown",
   "metadata": {},
   "source": [
    "# Pythonic vs Non-Pythonic Code\n",
    "\n",
    "\"You can write C (or COBOL, or FORTRAN, or any other non-favored language) in any language\""
   ]
  },
  {
   "cell_type": "markdown",
   "metadata": {},
   "source": [
    "## For loops: try not to do C-style iteration"
   ]
  },
  {
   "cell_type": "markdown",
   "metadata": {},
   "source": [
    "With lists (or other iterables):"
   ]
  },
  {
   "cell_type": "code",
   "execution_count": 3,
   "metadata": {},
   "outputs": [
    {
     "name": "stdout",
     "output_type": "stream",
     "text": [
      "0 foo\n",
      "1 bar\n",
      "2 baz\n"
     ]
    }
   ],
   "source": [
    "# Correct, but \"non-Pythonic\"\n",
    "lst = ['foo', 'bar', 'baz']\n",
    "for i in range(len(lst)):\n",
    "    print(i, lst[i])"
   ]
  },
  {
   "cell_type": "code",
   "execution_count": 4,
   "metadata": {},
   "outputs": [
    {
     "name": "stdout",
     "output_type": "stream",
     "text": [
      "0 foo\n",
      "1 bar\n",
      "2 baz\n"
     ]
    }
   ],
   "source": [
    "# Better\n",
    "lst = ['foo', 'bar', 'baz']\n",
    "for i, element in enumerate(lst):\n",
    "    print(i, element)"
   ]
  },
  {
   "cell_type": "markdown",
   "metadata": {},
   "source": [
    "With dictionaries:"
   ]
  },
  {
   "cell_type": "code",
   "execution_count": 5,
   "metadata": {},
   "outputs": [
    {
     "name": "stdout",
     "output_type": "stream",
     "text": [
      "tall 12\n",
      "grande 16\n",
      "venti 20\n"
     ]
    }
   ],
   "source": [
    "# Correct, but \"non-Pythonic\"\n",
    "dct = {'tall': 12, 'grande': 16, 'venti': 20}\n",
    "for name in dct.keys():\n",
    "    print(name, dct[name])"
   ]
  },
  {
   "cell_type": "code",
   "execution_count": 6,
   "metadata": {},
   "outputs": [
    {
     "name": "stdout",
     "output_type": "stream",
     "text": [
      "tall 12\n",
      "grande 16\n",
      "venti 20\n"
     ]
    }
   ],
   "source": [
    "# Better\n",
    "dct = {'tall': 12, 'grande': 16, 'venti': 20}\n",
    "for name, ounces in dct.items():\n",
    "    print(name, ounces)"
   ]
  },
  {
   "cell_type": "markdown",
   "metadata": {},
   "source": [
    "With multiple iterables:"
   ]
  },
  {
   "cell_type": "code",
   "execution_count": 7,
   "metadata": {},
   "outputs": [
    {
     "name": "stdout",
     "output_type": "stream",
     "text": [
      "foo some\n",
      "bar other\n",
      "baz list\n"
     ]
    }
   ],
   "source": [
    "# Correct, but \"non-Pythonic\"\n",
    "lst0 = ['foo', 'bar', 'baz']\n",
    "lst1 = ['some', 'other', 'list']\n",
    "\n",
    "for i in range(len(lst0)):\n",
    "    print(lst0[i], lst1[i])\n",
    "    "
   ]
  },
  {
   "cell_type": "code",
   "execution_count": 8,
   "metadata": {},
   "outputs": [
    {
     "name": "stdout",
     "output_type": "stream",
     "text": [
      "foo some\n",
      "bar other\n",
      "baz list\n"
     ]
    }
   ],
   "source": [
    "# Better\n",
    "lst0 = ['foo', 'bar', 'baz']\n",
    "lst1 = ['some', 'other', 'list']\n",
    "\n",
    "for item0, item1 in zip(lst0, lst1):\n",
    "    print(item0, item1)\n",
    "    "
   ]
  },
  {
   "cell_type": "code",
   "execution_count": 9,
   "metadata": {},
   "outputs": [
    {
     "name": "stdout",
     "output_type": "stream",
     "text": [
      "foo some\n",
      "bar other\n",
      "baz list\n"
     ]
    }
   ],
   "source": [
    "# Better\n",
    "lst0 = ['foo', 'bar', 'baz']\n",
    "lst1 = ['some', 'other', 'list', 'extra']\n",
    "\n",
    "for item0, item1 in zip(lst0, lst1):\n",
    "    print(item0, item1)\n",
    "    "
   ]
  },
  {
   "cell_type": "code",
   "execution_count": 11,
   "metadata": {},
   "outputs": [
    {
     "name": "stdout",
     "output_type": "stream",
     "text": [
      "foo some\n",
      "bar other\n",
      "baz list\n",
      "--- extra\n"
     ]
    }
   ],
   "source": [
    "from itertools import zip_longest\n",
    "\n",
    "lst0 = ['foo', 'bar', 'baz']\n",
    "lst1 = ['some', 'other', 'list', 'extra']\n",
    "\n",
    "for item0, item1 in zip_longest(lst0, lst1, fillvalue='---'):\n",
    "    print(item0, item1)\n",
    "    "
   ]
  },
  {
   "cell_type": "markdown",
   "metadata": {},
   "source": [
    "## Files: process line-at-a-time when possible (and use the `with` statement)"
   ]
  },
  {
   "cell_type": "code",
   "execution_count": 12,
   "metadata": {},
   "outputs": [
    {
     "name": "stdout",
     "output_type": "stream",
     "text": [
      "................................................................................................................................................................................................................................................................................................................................................................................................................................................................................................................................................................................................................................................................................................................................................................................................................................................................................................................................................................................................................................................\n"
     ]
    }
   ],
   "source": [
    "# Correct, but \"non-Pythonic\"\n",
    "f = open('./data/closing-prices.csv')\n",
    "try:\n",
    "    for line in f.readlines():\n",
    "        print('.', end='')\n",
    "    print()\n",
    "finally:\n",
    "    f.close()"
   ]
  },
  {
   "cell_type": "code",
   "execution_count": 13,
   "metadata": {},
   "outputs": [
    {
     "name": "stdout",
     "output_type": "stream",
     "text": [
      "................................................................................................................................................................................................................................................................................................................................................................................................................................................................................................................................................................................................................................................................................................................................................................................................................................................................................................................................................................................................................................................\n"
     ]
    }
   ],
   "source": [
    "# Better\n",
    "with open('./data/closing-prices.csv') as f:\n",
    "    for line in f:\n",
    "        print('.', end='')\n",
    "    print()"
   ]
  },
  {
   "cell_type": "code",
   "execution_count": 14,
   "metadata": {},
   "outputs": [
    {
     "name": "stdout",
     "output_type": "stream",
     "text": [
      "................................................................................................................................................................................................................................................................................................................................................................................................................................................................................................................................................................................................................................................................................................................................................................................................................................................................................................................................................................................................................................................\n"
     ]
    }
   ],
   "source": [
    "# Even better, if it's a csv file\n",
    "import csv\n",
    "with open('./data/closing-prices.csv') as f:\n",
    "    for row in csv.reader(f):\n",
    "        print('.', end='')\n",
    "    print()"
   ]
  },
  {
   "cell_type": "code",
   "execution_count": 15,
   "metadata": {},
   "outputs": [
    {
     "data": {
      "text/plain": [
       "['2017-12-29', '11.8634', '311.35', '1046.4', '148.6502', '167.3086']"
      ]
     },
     "execution_count": 15,
     "metadata": {},
     "output_type": "execute_result"
    }
   ],
   "source": [
    "row"
   ]
  },
  {
   "cell_type": "markdown",
   "metadata": {},
   "source": [
    "## Use automatic boolean coercion"
   ]
  },
  {
   "cell_type": "code",
   "execution_count": 16,
   "metadata": {},
   "outputs": [
    {
     "name": "stdout",
     "output_type": "stream",
     "text": [
      "3\n",
      "2\n",
      "1\n"
     ]
    }
   ],
   "source": [
    "# Correct, but \"non-Pythonic\"\n",
    "lst = [1, 2, 3]\n",
    "while len(lst) > 0:\n",
    "    print(lst.pop())"
   ]
  },
  {
   "cell_type": "code",
   "execution_count": 17,
   "metadata": {},
   "outputs": [
    {
     "name": "stdout",
     "output_type": "stream",
     "text": [
      "3\n",
      "2\n",
      "1\n"
     ]
    }
   ],
   "source": [
    "# Better\n",
    "lst = [1, 2, 3]\n",
    "while lst:\n",
    "    print(lst.pop())"
   ]
  },
  {
   "cell_type": "markdown",
   "metadata": {},
   "source": [
    "# Rules of Truthiness in Python\n",
    "\n",
    "## Things that are 'falsey'\n",
    "\n",
    "- objects whose class has `__bool__` method which returns False (may actually be `__nonzero__` here instead of `__bool__`)\n",
    "- objects whose class has `__len__` method which returns 0 (e.g. [], {}, set(), ())\n",
    "- False\n",
    "- None\n",
    "- 0, 0.0, 0j\n",
    "\n",
    "## Things that are 'truthy'\n",
    "\n",
    "Everything else"
   ]
  },
  {
   "cell_type": "markdown",
   "metadata": {},
   "source": [
    "## Use the conditional operator instead of 'short-circuit evaluation'"
   ]
  },
  {
   "cell_type": "code",
   "execution_count": 18,
   "metadata": {},
   "outputs": [],
   "source": [
    "def something():\n",
    "    print('Doing something!')\n",
    "    return 1\n",
    "\n",
    "def something_else():\n",
    "    print('Doing something else!')\n",
    "    return 2\n",
    "    \n",
    "condition = True"
   ]
  },
  {
   "cell_type": "code",
   "execution_count": 19,
   "metadata": {},
   "outputs": [
    {
     "name": "stdout",
     "output_type": "stream",
     "text": [
      "Doing something!\n"
     ]
    },
    {
     "data": {
      "text/plain": [
       "1"
      ]
     },
     "execution_count": 19,
     "metadata": {},
     "output_type": "execute_result"
    }
   ],
   "source": [
    "# Correct (sometimes)\n",
    "x = condition and something() or something_else()\n",
    "x"
   ]
  },
  {
   "cell_type": "code",
   "execution_count": 21,
   "metadata": {},
   "outputs": [
    {
     "name": "stdout",
     "output_type": "stream",
     "text": [
      "Do something falsey!\n",
      "Doing something else!\n"
     ]
    },
    {
     "data": {
      "text/plain": [
       "2"
      ]
     },
     "execution_count": 21,
     "metadata": {},
     "output_type": "execute_result"
    }
   ],
   "source": [
    "# Incorrect\n",
    "def something_falsey():\n",
    "    print('Do something falsey!')\n",
    "    return []\n",
    "\n",
    "x = condition and something_falsey() or something_else()\n",
    "x"
   ]
  },
  {
   "cell_type": "code",
   "execution_count": 22,
   "metadata": {},
   "outputs": [
    {
     "name": "stdout",
     "output_type": "stream",
     "text": [
      "Do something falsey!\n"
     ]
    },
    {
     "data": {
      "text/plain": [
       "[]"
      ]
     },
     "execution_count": 22,
     "metadata": {},
     "output_type": "execute_result"
    }
   ],
   "source": [
    "# Better\n",
    "x = something_falsey() if condition else something_else()\n",
    "x"
   ]
  },
  {
   "cell_type": "markdown",
   "metadata": {},
   "source": [
    "```javascript\n",
    "x = condition ? something_falsey() : something_else()\n",
    "```"
   ]
  }
 ],
 "metadata": {
  "kernelspec": {
   "display_name": "Python 3",
   "language": "python",
   "name": "python3"
  },
  "language_info": {
   "codemirror_mode": {
    "name": "ipython",
    "version": 3
   },
   "file_extension": ".py",
   "mimetype": "text/x-python",
   "name": "python",
   "nbconvert_exporter": "python",
   "pygments_lexer": "ipython3",
   "version": "3.7.3"
  }
 },
 "nbformat": 4,
 "nbformat_minor": 2
}
